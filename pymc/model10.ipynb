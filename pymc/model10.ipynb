{
 "cells": [
  {
   "cell_type": "code",
   "execution_count": 1,
   "metadata": {},
   "outputs": [
    {
     "name": "stderr",
     "output_type": "stream",
     "text": [
      "WARNING (theano.configdefaults): install mkl with `conda install mkl-service`: No module named 'mkl'\n"
     ]
    }
   ],
   "source": [
    "import theano.tensor as tt\n",
    "import sympy as sym\n",
    "import pymc3 as pm\n",
    "import numpy as np\n",
    "from sunode.wrappers.as_theano import solve_ivp"
   ]
  },
  {
   "cell_type": "code",
   "execution_count": 4,
   "metadata": {},
   "outputs": [],
   "source": [
    "def switch_zero_sym(t, t1):\n",
    "    return 1 / (1 + sym.exp(5 * (t - t1)))\n",
    "\n",
    "\n",
    "def switch_eta_sym(t, t1, eta, nu, xi):\n",
    "    return eta + (1 - eta) / (1 + sym.exp(xi * (t - t1 - nu)))\n",
    "\n",
    "\n",
    "def seir_rhs(t, y, p):\n",
    "    # Total number of infectious people\n",
    "    nI = sum(y.I)\n",
    "    ntot = sum(y.S + y.E + y.I + y.A)\n",
    "    p_tmax = switch_zero_sym(t, p.tmax2)\n",
    "    p_tswitch = switch_eta_sym(t, p.tswitch, p.eta, p.nu, p.xi)\n",
    "    \n",
    "    return {\n",
    "        'S': -p.beta * p_tswitch * y.S * nI / ntot,\n",
    "        'E': (\n",
    "            p.beta * p_tswitch * y.S * nI / ntot\n",
    "            - 1 / p.inv_tau * p_tmax * y.E\n",
    "        ),\n",
    "        'I': (\n",
    "            p.psi / p.inv_tau * p_tmax * y.E\n",
    "            - 1 / p.inv_mu * y.I\n",
    "        ),\n",
    "        'A': (\n",
    "            (1 - p.psi) / p.inv_tau * p_tmax * y.E\n",
    "            - 1 / p.inv_mu * y.A\n",
    "        ),\n",
    "        'R': (\n",
    "            1 / p.inv_mu * (y.I - y.A)\n",
    "        ),\n",
    "        'C': p.psi / p.inv_tau * p_tmax * y.E\n",
    "    }"
   ]
  },
  {
   "cell_type": "code",
   "execution_count": 12,
   "metadata": {},
   "outputs": [],
   "source": [
    "# TODO These numbers are just placeholders for now\n",
    "n_ages = 10\n",
    "\n",
    "default_priors = [\n",
    "    ('beta', pm.Exponential, {'lam': 1}),\n",
    "    ('eta', pm.Beta, {'alpha': 1, 'beta': 1}),\n",
    "    ('epsilon', pm.Beta, {'alpha': 1, 'beta': 1, 'shape': n_ages}),\n",
    "    ('rho', pm.Beta, {'alpha': 1, 'beta': 1, 'shape': n_ages - 1}),\n",
    "    ('pi', pm.Beta, {'alpha': 1, 'beta': 1}),\n",
    "    ('phi', pm.Exponential, {'lam': 1}),\n",
    "    ('xi_raw', pm.Beta, {'alpha': 1, 'beta': 1}),\n",
    "    ('nu', pm.Exponential, {'lam': 1}),\n",
    "]\n",
    "\n",
    "default_ode_params = {\n",
    "    'inv_tau': np.array(1.),\n",
    "    'inv_mu': np.array(1.),\n",
    "    'psi': np.array(1.),\n",
    "    'tmax2': np.array(1.),\n",
    "    'tswitch': np.array(1.),\n",
    "}\n",
    "\n",
    "age_dist = np.ones(n_ages)\n",
    "t0 = 0\n",
    "tvals = np.linspace(0, 1000)\n",
    "pop_t = 1\n",
    "observed_slice = slice(500, None)"
   ]
  },
  {
   "cell_type": "code",
   "execution_count": 13,
   "metadata": {},
   "outputs": [],
   "source": [
    "prior_overrides = {\n",
    "    'beta': {'lam': 2}\n",
    "}\n",
    "\n",
    "ode_params_overrides = {}"
   ]
  },
  {
   "cell_type": "code",
   "execution_count": 14,
   "metadata": {},
   "outputs": [],
   "source": [
    "class ModelConfig:\n",
    "    pass"
   ]
  },
  {
   "cell_type": "code",
   "execution_count": 15,
   "metadata": {},
   "outputs": [],
   "source": [
    "# TODO Wrap in make_model function\n",
    "with pm.Model() as model:\n",
    "    priors = {}\n",
    "    for name, dist, params in default_priors:\n",
    "        params = params.copy()\n",
    "        params.update(prior_overrides.get(name, {}))\n",
    "        rv = dist(name, **params)\n",
    "        priors[name] = rv\n",
    "\n",
    "    xi = priors['xi_raw'] + 0.5\n",
    "    rho_K = tt.concatenate([priors['rho'], [1]])\n",
    "\n",
    "    y0 = {\n",
    "        'S': (age_dist * (1 - priors['pi']), (n_ages,)),\n",
    "        'E': (age_dist * priors['pi'], (n_ages,)),\n",
    "        'I': np.zeros(n_ages),\n",
    "        'A': np.zeros(n_ages),\n",
    "        'R': np.zeros(n_ages),\n",
    "        'C': np.zeros(n_ages),\n",
    "    }\n",
    "\n",
    "    params = {\n",
    "        name: (priors[name], ())\n",
    "        for name in ['beta', 'eta', 'nu']\n",
    "    }\n",
    "    params['xi'] = (xi, ())\n",
    "\n",
    "    ode_params = default_ode_params.copy()\n",
    "    ode_params.update(ode_params_overrides)\n",
    "    params.update({\n",
    "        name: (val, ())\n",
    "        for name, val in ode_params.items()\n",
    "    })\n",
    "\n",
    "    y, flat_solution, problem, solver, *_ = solve_ivp(\n",
    "        t0=t0,\n",
    "        y0=y0,\n",
    "        params=params,\n",
    "        tvals=tvals,\n",
    "        rhs=seir_rhs,\n",
    "        solver_kwargs={\n",
    "            'constraints': np.ones(6 * n_ages),\n",
    "        },\n",
    "    )\n",
    "\n",
    "    for name in y:\n",
    "        y[name] = pop_t * y[name]\n",
    "    \n",
    "    diff_C = tt.concatenate([\n",
    "        y['C'][:1, :],\n",
    "        y['C'][:-1, :] - y['C'][1:, :]],\n",
    "    )\n",
    "    \n",
    "    output_incidence_cases = tt.dot(diff_C[observed_slice], rho_K)\n",
    "    \n",
    "\n",
    "    output = ModelConfig()\n",
    "    output.model = model\n",
    "    output.problem = problem\n",
    "    output.solver = solver\n",
    "    #return output  # TODO Save stuff in output"
   ]
  }
 ],
 "metadata": {
  "kernelspec": {
   "display_name": "pymc",
   "language": "python",
   "name": "pymc"
  },
  "language_info": {
   "codemirror_mode": {
    "name": "ipython",
    "version": 3
   },
   "file_extension": ".py",
   "mimetype": "text/x-python",
   "name": "python",
   "nbconvert_exporter": "python",
   "pygments_lexer": "ipython3",
   "version": "3.7.6"
  }
 },
 "nbformat": 4,
 "nbformat_minor": 4
}
