{
 "cells": [
  {
   "cell_type": "code",
   "execution_count": 1,
   "metadata": {},
   "outputs": [
    {
     "name": "stderr",
     "output_type": "stream",
     "text": [
      "WARNING (theano.configdefaults): install mkl with `conda install mkl-service`: No module named 'mkl'\n"
     ]
    }
   ],
   "source": [
    "import dataclasses\n",
    "import theano.tensor as tt\n",
    "import theano\n",
    "import sympy as sym\n",
    "from scipy import linalg, stats, optimize\n",
    "import arviz\n",
    "import seaborn as sns\n",
    "import pymc3 as pm\n",
    "import pandas as pd\n",
    "import datetime\n",
    "import numpy as np\n",
    "import matplotlib.pyplot as plt\n",
    "from sunode.wrappers.as_theano import solve_ivp"
   ]
  },
  {
   "cell_type": "code",
   "execution_count": 2,
   "metadata": {},
   "outputs": [],
   "source": [
    "# See data_management.R\n",
    "\n",
    "day_start = pd.to_datetime(\"2019-12-30\")\n",
    "day_data = pd.to_datetime(\"2019-12-08\")\n",
    "\n",
    "if day_data <= day_start:\n",
    "    day_data = day_start + datetime.timedelta(days=2)\n",
    "\n",
    "day_tmax = pd.to_datetime(\"2020-02-11\")\n",
    "day_tswitch = pd.to_datetime(\"2020-01-23\")\n",
    "time_lag = 100\n",
    "\n",
    "t0 = 0\n",
    "tmax = (day_tmax - day_start).days\n",
    "n_time = tmax + time_lag\n",
    "tvals = np.arange(n_time)\n",
    "t_data = (day_data - day_start).days\n",
    "#D = tmax-t_data+1\n",
    "n_observed = tmax - t_data  # TODO +1\n",
    "tswitch = (day_tswitch - day_start).days\n",
    "\n",
    "# Age distribution in China for 9 age classes ---------\n",
    "# (https://www.worldometers.info/demographics/china-demographics/) \n",
    "\n",
    "age_dist = np.array([\n",
    "  83932437 + 86735183,\n",
    "  84262751 + 82341859,\n",
    "  87158167+ 97989003,\n",
    "  128738970 + 100091455, \n",
    "  96274146 + 119837617,\n",
    "  123445382 + 98740491,\n",
    "  77514139 + 74149766,\n",
    "  44949689 + 26544616,\n",
    "  16181417 + 7581777 + 2305024 + 475193 + 74692\n",
    "])\n",
    "age_dist = age_dist / age_dist.sum()\n",
    "\n",
    "# Population in Hubei ---------\n",
    "# (National Bureau of Statistics of China) \n",
    "\n",
    "pop_t = 59020000\n",
    "\n",
    "# Case incidence in Hubei up to 2020-02-11 ---------\n",
    "# (Chinese CDC Weekly, The epidemiological characteristics of an outbreak...)\n",
    "\n",
    "confirmed_cases = pd.read_csv(\"../data/confirmed_cases.csv\")\n",
    "confirmed_cases['date'] = pd.to_datetime(\n",
    "    dict(\n",
    "        year=confirmed_cases.year,\n",
    "        month=confirmed_cases.month,\n",
    "        day=confirmed_cases.day\n",
    "    )\n",
    ")\n",
    "confirmed_cases = confirmed_cases[confirmed_cases.date >= day_data]\n",
    "incidence_cases = confirmed_cases.confirmed_cases_hubei\n",
    "\n",
    "incidence_deaths = np.array([\n",
    "    0, 0, 0, 0, 0, 0, 0, 0, 0, 0, 0, 0, 1, 0, 1,\n",
    "    0, 0, 1, 1, 2, 3, 7, 7, 14, 13, 21, 23, 23,\n",
    "    33, 38, 40, 40, 50, 56, 58, 64, 64, 76, 78,\n",
    "    85, 95, 85\n",
    "])\n",
    "\n",
    "cases_tmax = np.array([416, 549, 3619, 7600, 8571, 10008, 8583, 3918, 1408])\n",
    "prop_cases_tmax = cases_tmax / cases_tmax.sum()\n",
    "\n",
    "mort_tmax = np.array([0,1,7,18,38,130,309,312,208])\n",
    "prop_mort_tmax = mort_tmax / mort_tmax.sum()"
   ]
  },
  {
   "cell_type": "code",
   "execution_count": 3,
   "metadata": {},
   "outputs": [],
   "source": [
    "linton_mean = 20.2\n",
    "linton_sd = 11.6\n",
    "\n",
    "def get_par_lnorm(m, s):\n",
    "    mu = np.log(m) - np.log((s / m) ** 2 + 1) / 2\n",
    "    sigma = np.sqrt(np.log((s / m) ** 2 + 1))\n",
    "    return {\n",
    "        'mu': mu,\n",
    "        'sigma': sigma\n",
    "    }\n",
    "\n",
    "linton_pars = get_par_lnorm(linton_mean,linton_sd)\n",
    "\n",
    "dist = stats.lognorm(s=linton_pars['sigma'], scale=np.exp(linton_pars['mu']))\n",
    "gamma = dist.cdf(np.arange(60) + 1.5) - dist.cdf(np.arange(60) - 0.5)\n",
    "gamma = gamma / gamma.sum()"
   ]
  },
  {
   "cell_type": "code",
   "execution_count": 4,
   "metadata": {},
   "outputs": [
    {
     "data": {
      "text/plain": [
       "[<matplotlib.lines.Line2D at 0x7fdc62944050>]"
      ]
     },
     "execution_count": 4,
     "metadata": {},
     "output_type": "execute_result"
    },
    {
     "data": {
      "image/png": "[encoded data removed]",
      "text/plain": [
       "<Figure size 432x288 with 1 Axes>"
      ]
     },
     "metadata": {
      "needs_background": "light"
     },
     "output_type": "display_data"
    }
   ],
   "source": [
    "sns.distplot(dist.rvs(100000))\n",
    "plt.plot(gamma)"
   ]
  },
  {
   "cell_type": "code",
   "execution_count": 5,
   "metadata": {},
   "outputs": [],
   "source": [
    "linton_mean = 20.2\n",
    "linton_sd = 11.6\n",
    "\n",
    "def get_par_lnorm(m, s):\n",
    "    mu = np.log(m) - np.log((s / m) ** 2 + 1) / 2\n",
    "    sigma = np.sqrt(np.log((s / m) ** 2 + 1))\n",
    "    return {\n",
    "        'mu': mu,\n",
    "        'sigma': sigma\n",
    "    }\n",
    "\n",
    "linton_pars = get_par_lnorm(linton_mean,linton_sd)\n",
    "\n",
    "dist = stats.lognorm(s=linton_pars['sigma'], scale=np.exp(linton_pars['mu']))\n",
    "p_gamma = dist.cdf(np.arange(60) + 1.5) - dist.cdf(np.arange(60) - 0.5)\n",
    "p_gamma = p_gamma / p_gamma.sum()\n",
    "\n",
    "t0 = 0\n",
    "tmax2 = tmax\n",
    "agedistr_cases = cases_tmax\n",
    "agedistr_deaths = mort_tmax"
   ]
  },
  {
   "cell_type": "code",
   "execution_count": 154,
   "metadata": {},
   "outputs": [],
   "source": [
    "def switch_eta(t, t1, eta, nu, xi):\n",
    "    return eta + (1 - eta) / (1 + np.exp(xi * (t - t1 - nu)))\n",
    "\n",
    "def switch_zero(t, t1):\n",
    "    return 1 / (1 + np.exp(5 * (t - t1)))"
   ]
  },
  {
   "cell_type": "code",
   "execution_count": 89,
   "metadata": {},
   "outputs": [],
   "source": [
    "t = tvals"
   ]
  },
  {
   "cell_type": "code",
   "execution_count": 93,
   "metadata": {},
   "outputs": [
    {
     "data": {
      "text/plain": [
       "array(0.49911103)"
      ]
     },
     "execution_count": 93,
     "metadata": {},
     "output_type": "execute_result"
    }
   ],
   "source": [
    "dets['eta']"
   ]
  },
  {
   "cell_type": "code",
   "execution_count": 94,
   "metadata": {},
   "outputs": [
    {
     "data": {
      "text/plain": [
       "array(4.99478235)"
      ]
     },
     "execution_count": 94,
     "metadata": {},
     "output_type": "execute_result"
    }
   ],
   "source": [
    "dets['nu']"
   ]
  },
  {
   "cell_type": "code",
   "execution_count": 97,
   "metadata": {},
   "outputs": [
    {
     "data": {
      "text/plain": [
       "1.0000030537939666"
      ]
     },
     "execution_count": 97,
     "metadata": {},
     "output_type": "execute_result"
    }
   ],
   "source": [
    "dets['xi_raw'] + 0.5"
   ]
  },
  {
   "cell_type": "code",
   "execution_count": 113,
   "metadata": {},
   "outputs": [
    {
     "data": {
      "text/plain": [
       "[<matplotlib.lines.Line2D at 0x7fdc4e5e3050>]"
      ]
     },
     "execution_count": 113,
     "metadata": {},
     "output_type": "execute_result"
    },
    {
     "data": {
      "image/png": "[encoded data removed]",
      "text/plain": [
       "<Figure size 432x288 with 1 Axes>"
      ]
     },
     "metadata": {
      "needs_background": "light"
     },
     "output_type": "display_data"
    }
   ],
   "source": [
    "plt.plot(tvals, switch_eta(tvals, tswitch, dets['eta'], dets['nu'],  .5))"
   ]
  },
  {
   "cell_type": "code",
   "execution_count": 156,
   "metadata": {},
   "outputs": [
    {
     "data": {
      "text/plain": [
       "[<matplotlib.lines.Line2D at 0x7fdc4fceca10>]"
      ]
     },
     "execution_count": 156,
     "metadata": {},
     "output_type": "execute_result"
    },
    {
     "data": {
      "image/png": "[encoded data removed]",
      "text/plain": [
       "<Figure size 432x288 with 1 Axes>"
      ]
     },
     "metadata": {
      "needs_background": "light"
     },
     "output_type": "display_data"
    }
   ],
   "source": [
    "plt.plot(tvals, switch_zero(tvals, tmax2))"
   ]
  },
  {
   "cell_type": "code",
   "execution_count": 6,
   "metadata": {},
   "outputs": [],
   "source": [
    "def switch_zero_sym(t, t1):\n",
    "    return 1 / (1 + sym.exp(5 * (t - t1)))\n",
    "\n",
    "\n",
    "def switch_eta_sym(t, t1, eta, nu, xi):\n",
    "    return eta + (1 - eta) / (1 + sym.exp(xi * (t - t1 - nu)))\n",
    "\n",
    "\n",
    "def seir_rhs(t, y, p):\n",
    "    # Total number of infectious people\n",
    "    exp = np.vectorize(sym.exp)\n",
    "    y_type = type(y)\n",
    "    y = {name: exp(val) for name, val in dataclasses.asdict(y).items()}\n",
    "    y = y_type(**y)\n",
    "    \n",
    "    nI = sum(y.I)\n",
    "    ntot = sum(y.S + y.E + y.I + y.A)\n",
    "    p_tmax = switch_zero_sym(t, p.tmax2)\n",
    "    p_tswitch = switch_eta_sym(t, p.tswitch, p.eta, p.nu, p.xi)\n",
    "    \n",
    "    out = {\n",
    "        'S': -p.beta * p_tswitch * y.S * nI / ntot,\n",
    "        'E': (\n",
    "            p.beta * p_tswitch * y.S * nI / ntot\n",
    "            - 1 / p.inv_tau * p_tmax * y.E\n",
    "        ),\n",
    "        'I': (\n",
    "            p.psi / p.inv_tau * p_tmax * y.E\n",
    "            - 1 / p.inv_mu * y.I\n",
    "        ),\n",
    "        'A': (\n",
    "            (1 - p.psi) / p.inv_tau * p_tmax * y.E\n",
    "            - 1 / p.inv_mu * y.A\n",
    "        ),\n",
    "        'R': (\n",
    "            1 / p.inv_mu * (y.I + y.A)\n",
    "        ),\n",
    "        'C': p.psi / p.inv_tau * p_tmax * y.E\n",
    "    }\n",
    "    return {name: val / getattr(y, name) for name, val in out.items()}\n"
   ]
  },
  {
   "cell_type": "code",
   "execution_count": 7,
   "metadata": {},
   "outputs": [],
   "source": [
    "# TODO These numbers are just placeholders for now\n",
    "n_ages = len(agedistr_cases)\n",
    "\n",
    "default_priors = [\n",
    "    ('beta', pm.Exponential, {'lam': 1}),\n",
    "    ('eta', pm.Beta, {'alpha': 1, 'beta': 1}),\n",
    "    ('epsilon', pm.Beta, {'alpha': 1, 'beta': 1, 'shape': n_ages}),\n",
    "    ('rho', pm.Beta, {'alpha': 1, 'beta': 1, 'shape': n_ages - 1}),\n",
    "    ('pi', pm.Beta, {'alpha': 1, 'beta': 999}),\n",
    "    ('phi', pm.Exponential, {'lam': 0.01, 'shape': 2}),\n",
    "    ('xi_raw', pm.Beta, {'alpha': 1, 'beta': 1}),\n",
    "    ('nu', pm.Exponential, {'lam': 0.2}),\n",
    "]\n",
    "\n",
    "p_incubation = 5.6\n",
    "p_infectious = 2.9\n",
    "\n",
    "default_ode_params = {\n",
    "    'inv_tau': p_incubation,\n",
    "    'inv_mu': p_infectious,\n",
    "    'psi': 0.49,\n",
    "    'tmax2': np.array(tmax, dtype='d'),\n",
    "    'tswitch': np.array(tswitch, dtype='d'),\n",
    "}\n",
    "\n",
    "#age_dist = np.ones(n_ages)\n",
    "#t0 = 0\n",
    "#tvals = np.linspace(0, 1000)\n",
    "n_time = len(tvals)\n",
    "#pop_t = 1\n",
    "observed_slice = slice(-len(incidence_cases), None)\n",
    "#p_gamma = np.ones(len(tvals) - observed_slice.start)"
   ]
  },
  {
   "cell_type": "code",
   "execution_count": 37,
   "metadata": {},
   "outputs": [],
   "source": [
    "prior_overrides = {\n",
    "    'pi': {'beta': 9999}\n",
    "}\n",
    "\n",
    "ode_params_overrides = {}"
   ]
  },
  {
   "cell_type": "code",
   "execution_count": 38,
   "metadata": {},
   "outputs": [],
   "source": [
    "class ModelConfig:\n",
    "    pass"
   ]
  },
  {
   "cell_type": "code",
   "execution_count": 39,
   "metadata": {},
   "outputs": [],
   "source": [
    "# TODO Wrap in make_model function\n",
    "with pm.Model() as model:\n",
    "    priors = {}\n",
    "    for name, dist, params in default_priors:\n",
    "        params = params.copy()\n",
    "        params.update(prior_overrides.get(name, {}))\n",
    "        rv = dist(name, **params)\n",
    "        priors[name] = rv\n",
    "\n",
    "    xi = priors['xi_raw'] + 0.5\n",
    "    pm.Deterministic('xi', xi)\n",
    "\n",
    "    rho_K = tt.concatenate([priors['rho'], [1]])\n",
    "\n",
    "    y0 = {\n",
    "        'S': (age_dist * (1 - priors['pi']), (n_ages,)),\n",
    "        'E': (age_dist * priors['pi'], (n_ages,)),\n",
    "        'I': np.zeros(n_ages),\n",
    "        'A': np.zeros(n_ages),\n",
    "        'R': np.zeros(n_ages),\n",
    "        'C': np.zeros(n_ages),\n",
    "    }\n",
    "    \n",
    "    y0 = {\n",
    "        'S': (tt.log(age_dist * (1 - priors['pi'])), (n_ages,)),\n",
    "        'E': (tt.log(age_dist * priors['pi']), (n_ages,)),\n",
    "        'I': -30 * np.ones(n_ages),\n",
    "        'A': -30 * np.ones(n_ages),\n",
    "        'R': -30 * np.ones(n_ages),\n",
    "        'C': -30 * np.ones(n_ages),\n",
    "    }\n",
    "\n",
    "\n",
    "    params = {\n",
    "        name: (priors[name], ())\n",
    "        for name in ['beta', 'eta', 'nu']\n",
    "    }\n",
    "    params['xi'] = (xi, ())\n",
    "\n",
    "    ode_params = default_ode_params.copy()\n",
    "    ode_params.update(ode_params_overrides)\n",
    "    params.update({\n",
    "        name: (val, ())\n",
    "        for name, val in ode_params.items()\n",
    "    })\n",
    "\n",
    "    y, flat_solution, problem, solver, *_ = solve_ivp(\n",
    "        t0=t0,\n",
    "        y0=y0,\n",
    "        params=params,\n",
    "        tvals=tvals,\n",
    "        rhs=seir_rhs,\n",
    "        #solver_kwargs={\n",
    "        #    'constraints': np.ones(6 * n_ages),\n",
    "        #},\n",
    "    )\n",
    "    \n",
    "    for name in y:\n",
    "        pm.Deterministic(f'log_y_{name}', y[name])\n",
    "\n",
    "    for name in y:\n",
    "        y[name] = pop_t * tt.exp(y[name])\n",
    "    \n",
    "    #for name in y:\n",
    "    #    y[name] = pop_t * y[name]\n",
    "    \n",
    "    diff_C = tt.concatenate([\n",
    "        y['C'][:1, :],\n",
    "        y['C'][1:, :] - y['C'][:-1, :]],\n",
    "    )\n",
    "    \n",
    "    pm.Deterministic('diff_C', diff_C)\n",
    "    diff_C = tt.log1p(tt.exp(diff_C))\n",
    "    pm.Deterministic('abs_diff_C', diff_C)\n",
    "    \n",
    "    # TODO something like this\n",
    "    #diff_M = tt.signal.conv.conv2d(diff_C * prior['epsilon'][None, :], [p_gamma])\n",
    "    # or this\n",
    "    diff_M = tt.dot(\n",
    "        linalg.toeplitz(\n",
    "            np.r_[p_gamma[::-1], [0] * (n_time - len(p_gamma))],\n",
    "            np.zeros(n_time),\n",
    "        ),\n",
    "        diff_C * priors['epsilon'][None, :]\n",
    "    )\n",
    "    \n",
    "    y['M'] = diff_M\n",
    "    \n",
    "    for name in y:\n",
    "        pm.Deterministic(f'y_{name}', y[name])\n",
    "    \n",
    "    output_incidence_cases = tt.dot(diff_C[observed_slice], rho_K)\n",
    "    output_incidence_deaths = tt.sum(diff_M[observed_slice, :], axis=1)\n",
    "    \n",
    "    cases_end = y['C'][-1] * rho_K  # + 1e-9\n",
    "    output_agedistr_cases = cases_end / cases_end.sum()\n",
    "    output_agedistr_deaths = y['M'][-1] / y['M'][-1].sum()\n",
    "    \n",
    "    pm.Deterministic('output_agedistr_cases', output_agedistr_cases)\n",
    "    pm.Deterministic('output_agedistr_deaths', output_agedistr_deaths)\n",
    "    pm.Deterministic('output_incidence_cases', output_incidence_cases)\n",
    "    pm.Deterministic('output_incidence_deaths', output_incidence_deaths)\n",
    "    \n",
    "    pm.Multinomial(\n",
    "        'cases_by_age',\n",
    "        n=agedistr_cases.sum(),\n",
    "        p=output_agedistr_cases,\n",
    "        observed=agedistr_cases,\n",
    "    )\n",
    "    pm.Multinomial(\n",
    "        'deaths_by_age',\n",
    "        n=agedistr_deaths.sum(),\n",
    "        p=output_agedistr_deaths,\n",
    "        observed=agedistr_deaths,\n",
    "    )\n",
    "    \n",
    "    #output_incidence_cases = tt.nnet.softplus(output_incidence_cases)\n",
    "    pm.NegativeBinomial(\n",
    "        'cases',\n",
    "        mu=output_incidence_cases,\n",
    "        alpha=output_incidence_cases / priors['phi'][0],\n",
    "        observed=incidence_cases.values\n",
    "    )\n",
    "    \n",
    "    #output_incidence_deaths = tt.nnet.softplus(output_incidence_deaths)\n",
    "    pm.NegativeBinomial(\n",
    "        'deaths',\n",
    "        mu=output_incidence_deaths,\n",
    "        alpha=output_incidence_deaths / priors['phi'][1],\n",
    "        observed=incidence_deaths,\n",
    "    )\n",
    "\n",
    "\n",
    "    output = ModelConfig()\n",
    "    output.model = model\n",
    "    output.problem = problem\n",
    "    output.solver = solver\n",
    "    #return output  # TODO Save stuff in output"
   ]
  },
  {
   "cell_type": "code",
   "execution_count": 40,
   "metadata": {},
   "outputs": [
    {
     "data": {
      "text/plain": [
       "<matplotlib.axes._subplots.AxesSubplot at 0x7fdc48a68d90>"
      ]
     },
     "execution_count": 40,
     "metadata": {},
     "output_type": "execute_result"
    },
    {
     "data": {
      "image/png": "[encoded data removed]",
      "text/plain": [
       "<Figure size 432x288 with 2 Axes>"
      ]
     },
     "metadata": {
      "needs_background": "light"
     },
     "output_type": "display_data"
    }
   ],
   "source": [
    "sns.heatmap(\n",
    "    linalg.toeplitz(\n",
    "        np.r_[p_gamma[::-1], [0] * (n_time - len(p_gamma))],\n",
    "        np.zeros(n_time),\n",
    "    ),\n",
    "    center=0\n",
    ")"
   ]
  },
  {
   "cell_type": "code",
   "execution_count": 41,
   "metadata": {},
   "outputs": [],
   "source": [
    "func = model.logp_dlogp_function()\n",
    "func.set_extra_values({})\n",
    "x0 = np.random.randn(func.size)"
   ]
  },
  {
   "cell_type": "code",
   "execution_count": 42,
   "metadata": {},
   "outputs": [],
   "source": [
    "with model:\n",
    "    prior = pm.sample_prior_predictive(samples=1)"
   ]
  },
  {
   "cell_type": "code",
   "execution_count": 43,
   "metadata": {},
   "outputs": [
    {
     "data": {
      "text/plain": [
       "(array(-36732.30987559),\n",
       " array([-3.46810973e-01, -5.58996041e-01, -5.79323288e+01, -5.73726080e+01,\n",
       "        -5.38932412e+01, -4.07487612e+01, -3.91044400e+01,  7.72745177e+01,\n",
       "         1.13795781e+02,  1.24009668e+02,  2.13806348e+01, -2.45905566e+03,\n",
       "        -2.18515272e+03, -1.36963877e+03, -5.51360893e+02,  9.73620762e+02,\n",
       "         3.36799493e+03,  4.11528552e+03,  1.20524452e+03, -2.23454813e+03,\n",
       "         1.40552048e+04,  1.41724150e+02, -1.01273557e-01,  7.28783132e-01]))"
      ]
     },
     "execution_count": 43,
     "metadata": {},
     "output_type": "execute_result"
    }
   ],
   "source": [
    "func(x0)"
   ]
  },
  {
   "cell_type": "code",
   "execution_count": 44,
   "metadata": {},
   "outputs": [],
   "source": [
    "def loss(x):\n",
    "    logp, grad = func(x)\n",
    "    return -logp, -grad"
   ]
  },
  {
   "cell_type": "code",
   "execution_count": 45,
   "metadata": {},
   "outputs": [],
   "source": [
    "opt = optimize.minimize(loss, jac=True, x0=x0)"
   ]
  },
  {
   "cell_type": "code",
   "execution_count": 114,
   "metadata": {},
   "outputs": [],
   "source": [
    "point = func.array_to_dict(opt.x)"
   ]
  },
  {
   "cell_type": "code",
   "execution_count": 75,
   "metadata": {},
   "outputs": [],
   "source": [
    "point['pi_logodds__'] = np.array(-50)"
   ]
  },
  {
   "cell_type": "code",
   "execution_count": 115,
   "metadata": {},
   "outputs": [
    {
     "data": {
      "text/plain": [
       "array(-0.01365526)"
      ]
     },
     "execution_count": 115,
     "metadata": {},
     "output_type": "execute_result"
    }
   ],
   "source": [
    "point['beta_log__']"
   ]
  },
  {
   "cell_type": "code",
   "execution_count": 147,
   "metadata": {},
   "outputs": [],
   "source": [
    "point['beta_log__'] = -10"
   ]
  },
  {
   "cell_type": "code",
   "execution_count": 148,
   "metadata": {},
   "outputs": [],
   "source": [
    "dets_func = theano.function(model.free_RVs, model.deterministics)\n",
    "dets = dets_func(**point)\n",
    "dets = {var.name: val for var, val in zip(model.deterministics, dets)}"
   ]
  },
  {
   "cell_type": "code",
   "execution_count": 149,
   "metadata": {},
   "outputs": [
    {
     "data": {
      "text/plain": [
       "array([2.18576979, 2.18576533, 2.185765  , 2.18576499, 2.18576499,\n",
       "       2.18576499, 2.18576499, 2.18576499, 2.18576499, 2.18576499,\n",
       "       2.18576499, 2.18576499, 2.18576499, 2.18576499, 2.18576499,\n",
       "       2.18576499, 2.18576499, 2.18576499, 2.18576499, 2.18576499,\n",
       "       2.18576499, 2.18576499, 2.18576499, 2.18576499, 2.18576499,\n",
       "       2.18576499, 2.18576499, 2.18576499, 2.18576499, 2.18576499,\n",
       "       2.18576499, 2.18576499, 2.18576499, 2.18576499, 2.18576499,\n",
       "       2.18576499, 2.18576499, 2.18576499, 2.18576499, 2.18576499,\n",
       "       2.18576499, 2.18576499])"
      ]
     },
     "execution_count": 149,
     "metadata": {},
     "output_type": "execute_result"
    }
   ],
   "source": [
    "dets['output_incidence_deaths']"
   ]
  },
  {
   "cell_type": "code",
   "execution_count": 151,
   "metadata": {},
   "outputs": [
    {
     "data": {
      "text/plain": [
       "[<matplotlib.lines.Line2D at 0x7fdc45932190>,\n",
       " <matplotlib.lines.Line2D at 0x7fdc4efcb090>,\n",
       " <matplotlib.lines.Line2D at 0x7fdc581ef550>,\n",
       " <matplotlib.lines.Line2D at 0x7fdc581efb50>,\n",
       " <matplotlib.lines.Line2D at 0x7fdc581ef950>,\n",
       " <matplotlib.lines.Line2D at 0x7fdc581ef890>,\n",
       " <matplotlib.lines.Line2D at 0x7fdc581efe50>,\n",
       " <matplotlib.lines.Line2D at 0x7fdc581efd90>,\n",
       " <matplotlib.lines.Line2D at 0x7fdc581efc50>]"
      ]
     },
     "execution_count": 151,
     "metadata": {},
     "output_type": "execute_result"
    },
    {
     "data": {
      "image/png": "[encoded data removed]",
      "text/plain": [
       "<Figure size 432x288 with 1 Axes>"
      ]
     },
     "metadata": {
      "needs_background": "light"
     },
     "output_type": "display_data"
    }
   ],
   "source": [
    "plt.plot(dets['y_I'])"
   ]
  },
  {
   "cell_type": "code",
   "execution_count": 56,
   "metadata": {},
   "outputs": [
    {
     "data": {
      "text/plain": [
       "43"
      ]
     },
     "execution_count": 56,
     "metadata": {},
     "output_type": "execute_result"
    }
   ],
   "source": [
    "tmax"
   ]
  },
  {
   "cell_type": "code",
   "execution_count": 57,
   "metadata": {},
   "outputs": [
    {
     "data": {
      "text/plain": [
       "{'inv_tau': 5.6,\n",
       " 'inv_mu': 2.9,\n",
       " 'psi': 0.49,\n",
       " 'tmax2': array(43.),\n",
       " 'tswitch': array(24.)}"
      ]
     },
     "execution_count": 57,
     "metadata": {},
     "output_type": "execute_result"
    }
   ],
   "source": [
    "ode_params"
   ]
  },
  {
   "cell_type": "code",
   "execution_count": 58,
   "metadata": {},
   "outputs": [
    {
     "data": {
      "text/plain": [
       "0.08750000000000001"
      ]
     },
     "execution_count": 58,
     "metadata": {},
     "output_type": "execute_result"
    }
   ],
   "source": [
    "0.49 / 5.6"
   ]
  },
  {
   "cell_type": "code",
   "execution_count": 64,
   "metadata": {},
   "outputs": [
    {
     "data": {
      "text/plain": [
       "5886.930720081408"
      ]
     },
     "execution_count": 64,
     "metadata": {},
     "output_type": "execute_result"
    }
   ],
   "source": [
    "(dets['pi']) * pop_t"
   ]
  },
  {
   "cell_type": "code",
   "execution_count": 60,
   "metadata": {},
   "outputs": [
    {
     "data": {
      "text/plain": [
       "[<matplotlib.lines.Line2D at 0x7fdc45e5a450>,\n",
       " <matplotlib.lines.Line2D at 0x7fdc583eb310>,\n",
       " <matplotlib.lines.Line2D at 0x7fdc562ad810>,\n",
       " <matplotlib.lines.Line2D at 0x7fdc562ad510>,\n",
       " <matplotlib.lines.Line2D at 0x7fdc562adb90>,\n",
       " <matplotlib.lines.Line2D at 0x7fdc562ad090>,\n",
       " <matplotlib.lines.Line2D at 0x7fdc562ad850>,\n",
       " <matplotlib.lines.Line2D at 0x7fdc562add90>,\n",
       " <matplotlib.lines.Line2D at 0x7fdc562ad1d0>]"
      ]
     },
     "execution_count": 60,
     "metadata": {},
     "output_type": "execute_result"
    },
    {
     "data": {
      "image/png": "[encoded data removed]",
      "text/plain": [
       "<Figure size 432x288 with 1 Axes>"
      ]
     },
     "metadata": {
      "needs_background": "light"
     },
     "output_type": "display_data"
    }
   ],
   "source": [
    "plt.plot(dets['y_I'])"
   ]
  },
  {
   "cell_type": "code",
   "execution_count": 27,
   "metadata": {},
   "outputs": [
    {
     "data": {
      "text/plain": [
       "[<matplotlib.lines.Line2D at 0x7fdc45934fd0>]"
      ]
     },
     "execution_count": 27,
     "metadata": {},
     "output_type": "execute_result"
    },
    {
     "data": {
      "image/png": "[encoded data removed]",
      "text/plain": [
       "<Figure size 432x288 with 1 Axes>"
      ]
     },
     "metadata": {
      "needs_background": "light"
     },
     "output_type": "display_data"
    }
   ],
   "source": [
    "plt.plot(incidence_deaths)"
   ]
  },
  {
   "cell_type": "code",
   "execution_count": 28,
   "metadata": {},
   "outputs": [
    {
     "data": {
      "text/plain": [
       "[<matplotlib.lines.Line2D at 0x7fdc45960650>]"
      ]
     },
     "execution_count": 28,
     "metadata": {},
     "output_type": "execute_result"
    },
    {
     "data": {
      "image/png": "[encoded data removed]",
      "text/plain": [
       "<Figure size 432x288 with 1 Axes>"
      ]
     },
     "metadata": {
      "needs_background": "light"
     },
     "output_type": "display_data"
    }
   ],
   "source": [
    "plt.plot(dets['output_incidence_deaths'])"
   ]
  },
  {
   "cell_type": "code",
   "execution_count": 30,
   "metadata": {},
   "outputs": [
    {
     "data": {
      "text/plain": [
       "[<matplotlib.lines.Line2D at 0x7f274a867110>,\n",
       " <matplotlib.lines.Line2D at 0x7f274a867510>,\n",
       " <matplotlib.lines.Line2D at 0x7f274a867890>,\n",
       " <matplotlib.lines.Line2D at 0x7f274a867950>,\n",
       " <matplotlib.lines.Line2D at 0x7f274a867bd0>,\n",
       " <matplotlib.lines.Line2D at 0x7f274a867d10>,\n",
       " <matplotlib.lines.Line2D at 0x7f274a867fd0>,\n",
       " <matplotlib.lines.Line2D at 0x7f274a867790>,\n",
       " <matplotlib.lines.Line2D at 0x7f274a867b10>]"
      ]
     },
     "execution_count": 30,
     "metadata": {},
     "output_type": "execute_result"
    },
    {
     "data": {
      "image/png": "[encoded data removed]",
      "text/plain": [
       "<Figure size 432x288 with 1 Axes>"
      ]
     },
     "metadata": {
      "needs_background": "light"
     },
     "output_type": "display_data"
    }
   ],
   "source": [
    "plt.plot(dets['y_M'][1:])"
   ]
  },
  {
   "cell_type": "code",
   "execution_count": 65,
   "metadata": {},
   "outputs": [
    {
     "name": "stdout",
     "output_type": "stream",
     "text": [
      "50.8 ms ± 781 µs per loop (mean ± std. dev. of 7 runs, 10 loops each)\n"
     ]
    }
   ],
   "source": [
    "%timeit func(x0)"
   ]
  },
  {
   "cell_type": "code",
   "execution_count": 112,
   "metadata": {},
   "outputs": [],
   "source": [
    "import sunode"
   ]
  },
  {
   "cell_type": "code",
   "execution_count": 113,
   "metadata": {},
   "outputs": [
    {
     "data": {
      "text/plain": [
       "0"
      ]
     },
     "execution_count": 113,
     "metadata": {},
     "output_type": "execute_result"
    }
   ],
   "source": [
    "lib = sunode._cvodes.lib\n",
    "lib.CVodeSStolerances(solver._ode, 1e-10, 1e-10)\n",
    "lib.CVodeSStolerancesB(solver._ode, solver._odeB, 1e-8, 1e-8)\n",
    "lib.CVodeQuadSStolerancesB(solver._ode, solver._odeB, 1e-8, 1e-8)\n",
    "#lib.CVodeSetMaxNumSteps(solver._ode, 5000)\n",
    "#lib.CVodeSetMaxNumStepsB(solver._ode, solver._odeB, 5000)\n",
    "#lib.CVodeSetMaxStep(solver._ode, 120)\n",
    "#lib.CVodeSetMaxStepB(solver._ode, solver._odeB, 300)\n"
   ]
  },
  {
   "cell_type": "code",
   "execution_count": 114,
   "metadata": {},
   "outputs": [],
   "source": [
    "beta = tt.dscalar('__beta')\n",
    "beta.tag.test_value = 1.\n",
    "priors = tt.sum([var.logpt for var in model.free_RVs])\n",
    "observed = tt.sum([var.logpt for var in model.observed_RVs])\n",
    "\n",
    "func = pm.model.ValueGradFunction(priors + beta * observed, model.free_RVs, [beta])\n",
    "\n",
    "func.set_extra_values({beta.name: 1.})\n",
    "\n",
    "\n",
    "class TemperingAdapt(pm.step_methods.hmc.quadpotential.QuadPotentialFull):\n",
    "    \"\"\"Adapt a dense mass matrix using the sample covariances.\"\"\"\n",
    "    def __init__(\n",
    "        self,\n",
    "        n,\n",
    "        initial_mean,\n",
    "        initial_cov,\n",
    "        func,\n",
    "        n_tune,\n",
    "        n_steps,\n",
    "        n_tempering,\n",
    "        update_window=50,\n",
    "        initial_weight=100,\n",
    "        dtype=None,\n",
    "    ):\n",
    "        #self._betas = list(np.linspace(0, 1, n_steps)[1:])\n",
    "        #self._betas = list(np.logspace(-3, 0, n_steps)[1:])\n",
    "        self._n_steps = n_steps\n",
    "        #self._betas = list(np.repeat(scipy.special.expit(np.linspace(-8, 4, n_steps // 3)), 2))\n",
    "        #self._betas = list(np.repeat(scipy.special.expit(np.linspace(-7, 5, n_steps // 3)), 2))\n",
    "        #self._betas.extend([1] * n_steps)\n",
    "        \n",
    "        self._window_length = n_tune // n_steps\n",
    "        self._window = 0\n",
    "        self._func = func\n",
    "        self._n_tempering = n_tempering\n",
    "        \n",
    "        self._func.set_extra_values({'__beta': self.get_beta(0)})\n",
    "\n",
    "        if initial_cov is not None and initial_cov.ndim != 2:\n",
    "            raise ValueError(\"Initial covariance must be two-dimensional.\")\n",
    "        if initial_mean.ndim != 1:\n",
    "            raise ValueError(\"Initial mean must be one-dimensional.\")\n",
    "        if initial_cov is not None and initial_cov.shape != (n, n):\n",
    "            raise ValueError(\n",
    "                \"Wrong shape for initial_cov: expected %s got %s\"\n",
    "                % (n, initial_cov.shape)\n",
    "            )\n",
    "        if len(initial_mean) != n:\n",
    "            raise ValueError(\n",
    "                \"Wrong shape for initial_mean: expected %s got %s\"\n",
    "                % (n, len(initial_mean))\n",
    "            )\n",
    "\n",
    "        if dtype is None:\n",
    "            dtype = theano.config.floatX\n",
    "\n",
    "        if initial_cov is None:\n",
    "            initial_cov = np.eye(n, dtype=dtype)\n",
    "            initial_weight = 1\n",
    "\n",
    "        self.dtype = dtype\n",
    "        self._n = n\n",
    "        self._cov = np.array(initial_cov, dtype=self.dtype, copy=True)\n",
    "        self._chol = scipy.linalg.cholesky(self._cov, lower=True)\n",
    "        self._chol_error = None\n",
    "        self._foreground_cov = pm.step_methods.hmc.quadpotential._WeightedCovariance(\n",
    "            self._n, initial_mean, initial_cov, initial_weight, self.dtype\n",
    "        )\n",
    "        self._background_cov = pm.step_methods.hmc.quadpotential._WeightedCovariance(self._n, dtype=self.dtype)\n",
    "        self._n_samples = 0\n",
    "\n",
    "        self._update_window = int(update_window)\n",
    "        self._previous_update = 0\n",
    "        \n",
    "    def get_beta(self, i):\n",
    "        a = -7\n",
    "        b = 4\n",
    "        return scipy.special.expit((b - a) * i / self._n_tempering + a)\n",
    "        #return i / self._n_tempering\n",
    "    \n",
    "    def _update_from_weightvar(self, weightvar):\n",
    "        weightvar.current_covariance(out=self._cov)\n",
    "        if self._n_samples < self._n_tempering / 3:\n",
    "            self._cov = np.diag(np.diag(self._cov))\n",
    "\n",
    "        try:\n",
    "            self._chol = scipy.linalg.cholesky(self._cov, lower=True)\n",
    "            #self._chol = np.sqrt(self._cov)\n",
    "        except (scipy.linalg.LinAlgError, ValueError) as error:\n",
    "            self._chol_error = error\n",
    "\n",
    "    def update(self, sample, grad, tune, stepadapt):\n",
    "        if not tune:\n",
    "            return\n",
    "\n",
    "        # Steps since previous update\n",
    "        delta = self._n_samples - self._previous_update\n",
    "\n",
    "        self._foreground_cov.add_sample(sample, weight=1)\n",
    "        self._background_cov.add_sample(sample, weight=1)\n",
    "\n",
    "        if self._n_samples < self._n_tempering:\n",
    "            self._func.set_extra_values({'__beta': self.get_beta(self._n_samples)})\n",
    "            #self._func.set_extra_values({'__beta': 1.})\n",
    "        elif self._n_samples == self._n_tempering:\n",
    "            stepadapt.reset(0.6)\n",
    "            self._func.set_extra_values({'__beta': 1.})\n",
    "            #lib.CVodeSStolerances(solver._ode, 1e-14, 1e-14)\n",
    "            #lib.CVodeSStolerancesB(solver._ode, solver._odeB, 1e-12, 1e-12)\n",
    "            #lib.CVodeQuadSStolerancesB(solver._ode, solver._odeB, 1e-12, 1e-12)\n",
    "\n",
    "        # Reset the background covariance if we are at the end of the adaptation\n",
    "        # window.\n",
    "        if delta >= self._window_length:\n",
    "            self._foreground_cov = self._background_cov\n",
    "            self._background_cov = pm.step_methods.hmc.quadpotential._WeightedCovariance(\n",
    "                self._n, dtype=self.dtype\n",
    "            )\n",
    "\n",
    "            self._previous_update = self._n_samples\n",
    "            self._window += 1\n",
    "            self._update_from_weightvar(self._foreground_cov)\n",
    "            if self._n_samples >= 2 * self._n_steps // 3:\n",
    "                self._window_length *= 1.5\n",
    "        #else:\n",
    "        # Update the covariance matrix and recompute the Cholesky factorization\n",
    "        # every \"update_window\" steps\n",
    "        #    if self._window >= self._n_steps // 2 and (delta + 1) % self._update_window == 0:\n",
    "        #        self._update_from_weightvar(self._foreground_cov)\n",
    "                \n",
    "        self._n_samples += 1\n",
    "\n",
    "    def raise_ok(self, vmap):\n",
    "        if self._chol_error is not None:\n",
    "            raise ValueError(\"{0}\".format(self._chol_error))"
   ]
  },
  {
   "cell_type": "code",
   "execution_count": 115,
   "metadata": {},
   "outputs": [],
   "source": [
    "with model:\n",
    "    prior = pm.sample_prior_predictive(100)\n",
    "\n",
    "stds = {name: vals.std(0) for name, vals in prior.items() if vals.ndim > 0}\n",
    "means = {name: vals.mean(0) for name, vals in prior.items() if vals.ndim > 0}\n",
    "points = [{name: vals[i] for name, vals in prior.items() if vals.ndim > 0} for i in range(6)]\n",
    "\n",
    "import scipy.special\n",
    "import scipy.linalg"
   ]
  },
  {
   "cell_type": "code",
   "execution_count": 118,
   "metadata": {},
   "outputs": [],
   "source": [
    "import theano"
   ]
  },
  {
   "cell_type": "code",
   "execution_count": 119,
   "metadata": {},
   "outputs": [
    {
     "name": "stderr",
     "output_type": "stream",
     "text": [
      "Multiprocess sampling (6 chains in 6 jobs)\n",
      "NUTS: [nu, xi_raw, phi, pi, rho, epsilon, eta, beta]\n"
     ]
    },
    {
     "data": {
      "text/html": [
       "\n",
       "    <div>\n",
       "        <style>\n",
       "            /* Turns off some styling */\n",
       "            progress {\n",
       "                /* gets rid of default border in Firefox and Opera. */\n",
       "                border: none;\n",
       "                /* Needs to be in here for Safari polyfill so background images work as expected. */\n",
       "                background-size: auto;\n",
       "            }\n",
       "            .progress-bar-interrupted, .progress-bar-interrupted::-webkit-progress-bar {\n",
       "                background: #F44336;\n",
       "            }\n",
       "        </style>\n",
       "      <progress value='11588' class='' max='18000', style='width:300px; height:20px; vertical-align: middle;'></progress>\n",
       "      64.38% [11588/18000 8:36:36<4:45:51 Sampling 6 chains, 1,360 divergences]\n",
       "    </div>\n",
       "    "
      ],
      "text/plain": [
       "<IPython.core.display.HTML object>"
      ]
     },
     "metadata": {},
     "output_type": "display_data"
    },
    {
     "name": "stderr",
     "output_type": "stream",
     "text": [
      "There were 864 divergences after tuning. Increase `target_accept` or reparameterize.\n",
      "The chain reached the maximum tree depth. Increase max_treedepth, increase target_accept or reparameterize.\n",
      "There were 494 divergences after tuning. Increase `target_accept` or reparameterize.\n",
      "The acceptance probability does not match the target. It is 0.7904571237894046, but should be close to 0.6. Try to increase the number of tuning steps.\n"
     ]
    }
   ],
   "source": [
    "with model:\n",
    "    pot = TemperingAdapt(\n",
    "        func.size,\n",
    "        func.dict_to_array(means),\n",
    "        np.diag(func.dict_to_array(stds) ** 2),\n",
    "        func,\n",
    "        2_000,\n",
    "        20,\n",
    "        1500,\n",
    "    )\n",
    "    step = pm.NUTS(func=func, potential=pot, k=0.6, max_treedepth=10, target_accept=0.6)\n",
    "    \n",
    "    trace = pm.sample(\n",
    "        tune=2000, draws=1000, step=step,\n",
    "        discard_tuned_samples=False, chains=6, cores=6,\n",
    "        start=points, compute_convergence_checks=False\n",
    "    )"
   ]
  },
  {
   "cell_type": "code",
   "execution_count": 132,
   "metadata": {},
   "outputs": [
    {
     "data": {
      "text/html": [
       "<pre>&lt;xarray.Dataset&gt;\n",
       "Dimensions:                        (chain: 2, draw: 3000, epsilon_dim_0: 9, output_agedistr_cases_dim_0: 9, output_agedistr_deats_dim_0: 9, output_incidence_cases_dim_0: 42, output_incidence_deaths_dim_0: 42, phi_dim_0: 2, rho_dim_0: 8, y_A_dim_0: 143, y_A_dim_1: 9, y_C_dim_0: 143, y_C_dim_1: 9, y_E_dim_0: 143, y_E_dim_1: 9, y_I_dim_0: 143, y_I_dim_1: 9, y_M_dim_0: 143, y_M_dim_1: 9, y_R_dim_0: 143, y_R_dim_1: 9, y_S_dim_0: 143, y_S_dim_1: 9)\n",
       "Coordinates:\n",
       "  * chain                          (chain) int64 0 1\n",
       "  * draw                           (draw) int64 0 1 2 3 ... 2996 2997 2998 2999\n",
       "  * epsilon_dim_0                  (epsilon_dim_0) int64 0 1 2 3 4 5 6 7 8\n",
       "  * rho_dim_0                      (rho_dim_0) int64 0 1 2 3 4 5 6 7\n",
       "  * phi_dim_0                      (phi_dim_0) int64 0 1\n",
       "  * y_S_dim_0                      (y_S_dim_0) int64 0 1 2 3 ... 139 140 141 142\n",
       "  * y_S_dim_1                      (y_S_dim_1) int64 0 1 2 3 4 5 6 7 8\n",
       "  * y_E_dim_0                      (y_E_dim_0) int64 0 1 2 3 ... 139 140 141 142\n",
       "  * y_E_dim_1                      (y_E_dim_1) int64 0 1 2 3 4 5 6 7 8\n",
       "  * y_I_dim_0                      (y_I_dim_0) int64 0 1 2 3 ... 139 140 141 142\n",
       "  * y_I_dim_1                      (y_I_dim_1) int64 0 1 2 3 4 5 6 7 8\n",
       "  * y_A_dim_0                      (y_A_dim_0) int64 0 1 2 3 ... 139 140 141 142\n",
       "  * y_A_dim_1                      (y_A_dim_1) int64 0 1 2 3 4 5 6 7 8\n",
       "  * y_R_dim_0                      (y_R_dim_0) int64 0 1 2 3 ... 139 140 141 142\n",
       "  * y_R_dim_1                      (y_R_dim_1) int64 0 1 2 3 4 5 6 7 8\n",
       "  * y_C_dim_0                      (y_C_dim_0) int64 0 1 2 3 ... 139 140 141 142\n",
       "  * y_C_dim_1                      (y_C_dim_1) int64 0 1 2 3 4 5 6 7 8\n",
       "  * y_M_dim_0                      (y_M_dim_0) int64 0 1 2 3 ... 139 140 141 142\n",
       "  * y_M_dim_1                      (y_M_dim_1) int64 0 1 2 3 4 5 6 7 8\n",
       "  * output_agedistr_cases_dim_0    (output_agedistr_cases_dim_0) int64 0 1 ... 8\n",
       "  * output_agedistr_deats_dim_0    (output_agedistr_deats_dim_0) int64 0 1 ... 8\n",
       "  * output_incidence_cases_dim_0   (output_incidence_cases_dim_0) int64 0 ... 41\n",
       "  * output_incidence_deaths_dim_0  (output_incidence_deaths_dim_0) int64 0 ... 41\n",
       "Data variables:\n",
       "    beta                           (chain, draw) float64 0.2349 0.2349 ... 1.176\n",
       "    eta                            (chain, draw) float64 0.7547 ... 0.0006512\n",
       "    epsilon                        (chain, draw, epsilon_dim_0) float64 0.03851 ... 0.4608\n",
       "    rho                            (chain, draw, rho_dim_0) float64 0.4825 ... 0.5792\n",
       "    pi                             (chain, draw) float64 0.003377 ... 0.0004442\n",
       "    phi                            (chain, draw, phi_dim_0) float64 492.0 ... 28.76\n",
       "    xi_raw                         (chain, draw) float64 0.9349 ... 0.6725\n",
       "    nu                             (chain, draw) float64 5.81 5.81 ... 14.65\n",
       "    y_S                            (chain, draw, y_S_dim_0, y_S_dim_1) float64 6.975e+06 ... 0.4652\n",
       "    y_E                            (chain, draw, y_E_dim_0, y_E_dim_1) float64 2.363e+04 ... 769.0\n",
       "    y_I                            (chain, draw, y_I_dim_0, y_I_dim_1) float64 5.902e+07 ... 6.374e-13\n",
       "    y_A                            (chain, draw, y_A_dim_0, y_A_dim_1) float64 5.902e+07 ... 6.621e-13\n",
       "    y_R                            (chain, draw, y_R_dim_0, y_R_dim_1) float64 5.902e+07 ... 1.782e+08\n",
       "    y_C                            (chain, draw, y_C_dim_0, y_C_dim_1) float64 5.902e+07 ... 5.955e+07\n",
       "    y_M                            (chain, draw, y_M_dim_0, y_M_dim_1) float64 2.097e+03 ... 9.758e-10\n",
       "    output_agedistr_cases          (chain, draw, output_agedistr_cases_dim_0) float64 0.07289 ... 0.1546\n",
       "    output_agedistr_deats          (chain, draw, output_agedistr_deats_dim_0) float64 0.1111 ... 0.2375\n",
       "    output_incidence_cases         (chain, draw, output_incidence_cases_dim_0) float64 0.0 ... 0.0\n",
       "    output_incidence_deaths        (chain, draw, output_incidence_deaths_dim_0) float64 -2.353 ... -4.892e-09\n",
       "Attributes:\n",
       "    created_at:                 2020-03-14T11:03:56.182332\n",
       "    arviz_version:              0.7.0\n",
       "    inference_library:          pymc3\n",
       "    inference_library_version:  3.7</pre>"
      ],
      "text/plain": [
       "<xarray.Dataset>\n",
       "Dimensions:                        (chain: 2, draw: 3000, epsilon_dim_0: 9, output_agedistr_cases_dim_0: 9, output_agedistr_deats_dim_0: 9, output_incidence_cases_dim_0: 42, output_incidence_deaths_dim_0: 42, phi_dim_0: 2, rho_dim_0: 8, y_A_dim_0: 143, y_A_dim_1: 9, y_C_dim_0: 143, y_C_dim_1: 9, y_E_dim_0: 143, y_E_dim_1: 9, y_I_dim_0: 143, y_I_dim_1: 9, y_M_dim_0: 143, y_M_dim_1: 9, y_R_dim_0: 143, y_R_dim_1: 9, y_S_dim_0: 143, y_S_dim_1: 9)\n",
       "Coordinates:\n",
       "  * chain                          (chain) int64 0 1\n",
       "  * draw                           (draw) int64 0 1 2 3 ... 2996 2997 2998 2999\n",
       "  * epsilon_dim_0                  (epsilon_dim_0) int64 0 1 2 3 4 5 6 7 8\n",
       "  * rho_dim_0                      (rho_dim_0) int64 0 1 2 3 4 5 6 7\n",
       "  * phi_dim_0                      (phi_dim_0) int64 0 1\n",
       "  * y_S_dim_0                      (y_S_dim_0) int64 0 1 2 3 ... 139 140 141 142\n",
       "  * y_S_dim_1                      (y_S_dim_1) int64 0 1 2 3 4 5 6 7 8\n",
       "  * y_E_dim_0                      (y_E_dim_0) int64 0 1 2 3 ... 139 140 141 142\n",
       "  * y_E_dim_1                      (y_E_dim_1) int64 0 1 2 3 4 5 6 7 8\n",
       "  * y_I_dim_0                      (y_I_dim_0) int64 0 1 2 3 ... 139 140 141 142\n",
       "  * y_I_dim_1                      (y_I_dim_1) int64 0 1 2 3 4 5 6 7 8\n",
       "  * y_A_dim_0                      (y_A_dim_0) int64 0 1 2 3 ... 139 140 141 142\n",
       "  * y_A_dim_1                      (y_A_dim_1) int64 0 1 2 3 4 5 6 7 8\n",
       "  * y_R_dim_0                      (y_R_dim_0) int64 0 1 2 3 ... 139 140 141 142\n",
       "  * y_R_dim_1                      (y_R_dim_1) int64 0 1 2 3 4 5 6 7 8\n",
       "  * y_C_dim_0                      (y_C_dim_0) int64 0 1 2 3 ... 139 140 141 142\n",
       "  * y_C_dim_1                      (y_C_dim_1) int64 0 1 2 3 4 5 6 7 8\n",
       "  * y_M_dim_0                      (y_M_dim_0) int64 0 1 2 3 ... 139 140 141 142\n",
       "  * y_M_dim_1                      (y_M_dim_1) int64 0 1 2 3 4 5 6 7 8\n",
       "  * output_agedistr_cases_dim_0    (output_agedistr_cases_dim_0) int64 0 1 ... 8\n",
       "  * output_agedistr_deats_dim_0    (output_agedistr_deats_dim_0) int64 0 1 ... 8\n",
       "  * output_incidence_cases_dim_0   (output_incidence_cases_dim_0) int64 0 ... 41\n",
       "  * output_incidence_deaths_dim_0  (output_incidence_deaths_dim_0) int64 0 ... 41\n",
       "Data variables:\n",
       "    beta                           (chain, draw) float64 0.2349 0.2349 ... 1.176\n",
       "    eta                            (chain, draw) float64 0.7547 ... 0.0006512\n",
       "    epsilon                        (chain, draw, epsilon_dim_0) float64 0.03851 ... 0.4608\n",
       "    rho                            (chain, draw, rho_dim_0) float64 0.4825 ... 0.5792\n",
       "    pi                             (chain, draw) float64 0.003377 ... 0.0004442\n",
       "    phi                            (chain, draw, phi_dim_0) float64 492.0 ... 28.76\n",
       "    xi_raw                         (chain, draw) float64 0.9349 ... 0.6725\n",
       "    nu                             (chain, draw) float64 5.81 5.81 ... 14.65\n",
       "    y_S                            (chain, draw, y_S_dim_0, y_S_dim_1) float64 6.975e+06 ... 0.4652\n",
       "    y_E                            (chain, draw, y_E_dim_0, y_E_dim_1) float64 2.363e+04 ... 769.0\n",
       "    y_I                            (chain, draw, y_I_dim_0, y_I_dim_1) float64 5.902e+07 ... 6.374e-13\n",
       "    y_A                            (chain, draw, y_A_dim_0, y_A_dim_1) float64 5.902e+07 ... 6.621e-13\n",
       "    y_R                            (chain, draw, y_R_dim_0, y_R_dim_1) float64 5.902e+07 ... 1.782e+08\n",
       "    y_C                            (chain, draw, y_C_dim_0, y_C_dim_1) float64 5.902e+07 ... 5.955e+07\n",
       "    y_M                            (chain, draw, y_M_dim_0, y_M_dim_1) float64 2.097e+03 ... 9.758e-10\n",
       "    output_agedistr_cases          (chain, draw, output_agedistr_cases_dim_0) float64 0.07289 ... 0.1546\n",
       "    output_agedistr_deats          (chain, draw, output_agedistr_deats_dim_0) float64 0.1111 ... 0.2375\n",
       "    output_incidence_cases         (chain, draw, output_incidence_cases_dim_0) float64 0.0 ... 0.0\n",
       "    output_incidence_deaths        (chain, draw, output_incidence_deaths_dim_0) float64 -2.353 ... -4.892e-09\n",
       "Attributes:\n",
       "    created_at:                 2020-03-14T11:03:56.182332\n",
       "    arviz_version:              0.7.0\n",
       "    inference_library:          pymc3\n",
       "    inference_library_version:  3.7"
      ]
     },
     "execution_count": 132,
     "metadata": {},
     "output_type": "execute_result"
    }
   ],
   "source": [
    "tr.posterior"
   ]
  },
  {
   "cell_type": "code",
   "execution_count": 140,
   "metadata": {},
   "outputs": [],
   "source": [
    "import arviz\n",
    "\n",
    "tr = arviz.from_pymc3(\n",
    "    trace=trace,\n",
    "    log_likelihood=False,\n",
    "    dims={\n",
    "        'y_S': ['time', 'age'],\n",
    "        'y_E': ['time', 'age'],\n",
    "        'y_I': ['time', 'age'],\n",
    "        'y_A': ['time', 'age'],\n",
    "        'y_R': ['time', 'age'],\n",
    "        'y_C': ['time', 'age'],\n",
    "        'y_M': ['time', 'age'],\n",
    "        'output_agedistr_cases': ['age'],\n",
    "        'output_agedistr_deats': ['age'],\n",
    "        'output_incidence_cases': ['data_time'],\n",
    "        'output_incidence_deaths': ['data_time'],\n",
    "        'epsilon': ['age'],\n",
    "    },\n",
    "    coords={\n",
    "        'age': np.arange(n_ages),\n",
    "        'time': np.arange(n_time),\n",
    "        'data_time': np.arange(n_observed + 1),\n",
    "    }\n",
    ")"
   ]
  },
  {
   "cell_type": "code",
   "execution_count": 141,
   "metadata": {},
   "outputs": [
    {
     "data": {
      "text/html": [
       "<pre>&lt;xarray.Dataset&gt;\n",
       "Dimensions:                  (age: 9, chain: 2, data_time: 42, draw: 3000, phi_dim_0: 2, rho_dim_0: 8, time: 143)\n",
       "Coordinates:\n",
       "  * chain                    (chain) int64 0 1\n",
       "  * draw                     (draw) int64 0 1 2 3 4 ... 2995 2996 2997 2998 2999\n",
       "  * age                      (age) int64 0 1 2 3 4 5 6 7 8\n",
       "  * rho_dim_0                (rho_dim_0) int64 0 1 2 3 4 5 6 7\n",
       "  * phi_dim_0                (phi_dim_0) int64 0 1\n",
       "  * time                     (time) int64 0 1 2 3 4 5 ... 138 139 140 141 142\n",
       "  * data_time                (data_time) int64 0 1 2 3 4 5 ... 36 37 38 39 40 41\n",
       "Data variables:\n",
       "    beta                     (chain, draw) float64 0.2349 0.2349 ... 1.176 1.176\n",
       "    eta                      (chain, draw) float64 0.7547 0.7547 ... 0.0006512\n",
       "    epsilon                  (chain, draw, age) float64 0.03851 ... 0.4608\n",
       "    rho                      (chain, draw, rho_dim_0) float64 0.4825 ... 0.5792\n",
       "    pi                       (chain, draw) float64 0.003377 ... 0.0004442\n",
       "    phi                      (chain, draw, phi_dim_0) float64 492.0 ... 28.76\n",
       "    xi_raw                   (chain, draw) float64 0.9349 0.9349 ... 0.6725\n",
       "    nu                       (chain, draw) float64 5.81 5.81 ... 14.65 14.65\n",
       "    y_S                      (chain, draw, time, age) float64 6.975e+06 ... 0.4652\n",
       "    y_E                      (chain, draw, time, age) float64 2.363e+04 ... 769.0\n",
       "    y_I                      (chain, draw, time, age) float64 5.902e+07 ... 6.374e-13\n",
       "    y_A                      (chain, draw, time, age) float64 5.902e+07 ... 6.621e-13\n",
       "    y_R                      (chain, draw, time, age) float64 5.902e+07 ... 1.782e+08\n",
       "    y_C                      (chain, draw, time, age) float64 5.902e+07 ... 5.955e+07\n",
       "    y_M                      (chain, draw, time, age) float64 2.097e+03 ... 9.758e-10\n",
       "    output_agedistr_cases    (chain, draw, age) float64 0.07289 ... 0.1546\n",
       "    output_agedistr_deats    (chain, draw, age) float64 0.1111 0.1111 ... 0.2375\n",
       "    output_incidence_cases   (chain, draw, data_time) float64 0.0 0.0 ... 0.0\n",
       "    output_incidence_deaths  (chain, draw, data_time) float64 -2.353 ... -4.892e-09\n",
       "Attributes:\n",
       "    created_at:                 2020-03-14T11:10:24.484951\n",
       "    arviz_version:              0.7.0\n",
       "    inference_library:          pymc3\n",
       "    inference_library_version:  3.7</pre>"
      ],
      "text/plain": [
       "<xarray.Dataset>\n",
       "Dimensions:                  (age: 9, chain: 2, data_time: 42, draw: 3000, phi_dim_0: 2, rho_dim_0: 8, time: 143)\n",
       "Coordinates:\n",
       "  * chain                    (chain) int64 0 1\n",
       "  * draw                     (draw) int64 0 1 2 3 4 ... 2995 2996 2997 2998 2999\n",
       "  * age                      (age) int64 0 1 2 3 4 5 6 7 8\n",
       "  * rho_dim_0                (rho_dim_0) int64 0 1 2 3 4 5 6 7\n",
       "  * phi_dim_0                (phi_dim_0) int64 0 1\n",
       "  * time                     (time) int64 0 1 2 3 4 5 ... 138 139 140 141 142\n",
       "  * data_time                (data_time) int64 0 1 2 3 4 5 ... 36 37 38 39 40 41\n",
       "Data variables:\n",
       "    beta                     (chain, draw) float64 0.2349 0.2349 ... 1.176 1.176\n",
       "    eta                      (chain, draw) float64 0.7547 0.7547 ... 0.0006512\n",
       "    epsilon                  (chain, draw, age) float64 0.03851 ... 0.4608\n",
       "    rho                      (chain, draw, rho_dim_0) float64 0.4825 ... 0.5792\n",
       "    pi                       (chain, draw) float64 0.003377 ... 0.0004442\n",
       "    phi                      (chain, draw, phi_dim_0) float64 492.0 ... 28.76\n",
       "    xi_raw                   (chain, draw) float64 0.9349 0.9349 ... 0.6725\n",
       "    nu                       (chain, draw) float64 5.81 5.81 ... 14.65 14.65\n",
       "    y_S                      (chain, draw, time, age) float64 6.975e+06 ... 0.4652\n",
       "    y_E                      (chain, draw, time, age) float64 2.363e+04 ... 769.0\n",
       "    y_I                      (chain, draw, time, age) float64 5.902e+07 ... 6.374e-13\n",
       "    y_A                      (chain, draw, time, age) float64 5.902e+07 ... 6.621e-13\n",
       "    y_R                      (chain, draw, time, age) float64 5.902e+07 ... 1.782e+08\n",
       "    y_C                      (chain, draw, time, age) float64 5.902e+07 ... 5.955e+07\n",
       "    y_M                      (chain, draw, time, age) float64 2.097e+03 ... 9.758e-10\n",
       "    output_agedistr_cases    (chain, draw, age) float64 0.07289 ... 0.1546\n",
       "    output_agedistr_deats    (chain, draw, age) float64 0.1111 0.1111 ... 0.2375\n",
       "    output_incidence_cases   (chain, draw, data_time) float64 0.0 0.0 ... 0.0\n",
       "    output_incidence_deaths  (chain, draw, data_time) float64 -2.353 ... -4.892e-09\n",
       "Attributes:\n",
       "    created_at:                 2020-03-14T11:10:24.484951\n",
       "    arviz_version:              0.7.0\n",
       "    inference_library:          pymc3\n",
       "    inference_library_version:  3.7"
      ]
     },
     "execution_count": 141,
     "metadata": {},
     "output_type": "execute_result"
    }
   ],
   "source": [
    "tr.posterior"
   ]
  },
  {
   "cell_type": "code",
   "execution_count": null,
   "metadata": {},
   "outputs": [],
   "source": [
    "pm.traceplot(tr, var_names=['beta', 'eta', 'epsilon', 'rho', 'pi', 'phi', 'xi_raw', 'nu'])"
   ]
  },
  {
   "cell_type": "code",
   "execution_count": 67,
   "metadata": {},
   "outputs": [
    {
     "name": "stderr",
     "output_type": "stream",
     "text": [
      "Auto-assigning NUTS sampler...\n",
      "Initializing NUTS using jitter+adapt_diag...\n",
      "Multiprocess sampling (4 chains in 4 jobs)\n",
      "NUTS: [nu, xi_raw, phi, pi, rho, epsilon, eta, beta]\n"
     ]
    },
    {
     "data": {
      "text/html": [
       "\n",
       "    <div>\n",
       "        <style>\n",
       "            /* Turns off some styling */\n",
       "            progress {\n",
       "                /* gets rid of default border in Firefox and Opera. */\n",
       "                border: none;\n",
       "                /* Needs to be in here for Safari polyfill so background images work as expected. */\n",
       "                background-size: auto;\n",
       "            }\n",
       "            .progress-bar-interrupted, .progress-bar-interrupted::-webkit-progress-bar {\n",
       "                background: #F44336;\n",
       "            }\n",
       "        </style>\n",
       "      <progress value='0' class='' max='4000', style='width:300px; height:20px; vertical-align: middle;'></progress>\n",
       "      0.00% [0/4000 00:00<00:00 Sampling 4 chains, 0 divergences]\n",
       "    </div>\n",
       "    "
      ],
      "text/plain": [
       "<IPython.core.display.HTML object>"
      ]
     },
     "metadata": {},
     "output_type": "display_data"
    },
    {
     "ename": "RuntimeError",
     "evalue": "Chain 3 failed.",
     "output_type": "error",
     "traceback": [
      "\u001b[0;31m---------------------------------------------------------------------------\u001b[0m",
      "\u001b[0;31mRemoteTraceback\u001b[0m                           Traceback (most recent call last)",
      "\u001b[0;31mRemoteTraceback\u001b[0m: \n\"\"\"\nTraceback (most recent call last):\n  File \"/home/adr/git/pymc3/pymc3/parallel_sampling.py\", line 114, in run\n    self._start_loop()\n  File \"/home/adr/git/pymc3/pymc3/parallel_sampling.py\", line 164, in _start_loop\n    point, stats = self._compute_point()\n  File \"/home/adr/git/pymc3/pymc3/parallel_sampling.py\", line 195, in _compute_point\n    point, stats = self._step_method.step(self._point)\n  File \"/home/adr/git/pymc3/pymc3/step_methods/arraystep.py\", line 250, in step\n    apoint, stats = self.astep(array)\n  File \"/home/adr/git/pymc3/pymc3/step_methods/hmc/base_hmc.py\", line 155, in astep\n    self.potential.update(hmc_step.end.q, hmc_step.end.q_grad, self.tune, self.step_adapt)\nTypeError: update() takes 4 positional arguments but 5 were given\n\"\"\"",
      "\nThe above exception was the direct cause of the following exception:\n",
      "\u001b[0;31mTypeError\u001b[0m                                 Traceback (most recent call last)",
      "\u001b[0;31mTypeError\u001b[0m: update() takes 4 positional arguments but 5 were given",
      "\nThe above exception was the direct cause of the following exception:\n",
      "\u001b[0;31mRuntimeError\u001b[0m                              Traceback (most recent call last)",
      "\u001b[0;32m<ipython-input-67-3a6b5294a20f>\u001b[0m in \u001b[0;36m<module>\u001b[0;34m\u001b[0m\n\u001b[1;32m      1\u001b[0m \u001b[0;32mwith\u001b[0m \u001b[0mmodel\u001b[0m\u001b[0;34m:\u001b[0m\u001b[0;34m\u001b[0m\u001b[0;34m\u001b[0m\u001b[0m\n\u001b[0;32m----> 2\u001b[0;31m     \u001b[0mtrace\u001b[0m \u001b[0;34m=\u001b[0m \u001b[0mpm\u001b[0m\u001b[0;34m.\u001b[0m\u001b[0msample\u001b[0m\u001b[0;34m(\u001b[0m\u001b[0;34m)\u001b[0m\u001b[0;34m\u001b[0m\u001b[0;34m\u001b[0m\u001b[0m\n\u001b[0m",
      "\u001b[0;32m~/git/pymc3/pymc3/sampling.py\u001b[0m in \u001b[0;36msample\u001b[0;34m(draws, step, init, n_init, start, trace, chain_idx, chains, cores, tune, progressbar, model, random_seed, discard_tuned_samples, compute_convergence_checks, **kwargs)\u001b[0m\n\u001b[1;32m    471\u001b[0m         \u001b[0m_print_step_hierarchy\u001b[0m\u001b[0;34m(\u001b[0m\u001b[0mstep\u001b[0m\u001b[0;34m)\u001b[0m\u001b[0;34m\u001b[0m\u001b[0;34m\u001b[0m\u001b[0m\n\u001b[1;32m    472\u001b[0m         \u001b[0;32mtry\u001b[0m\u001b[0;34m:\u001b[0m\u001b[0;34m\u001b[0m\u001b[0;34m\u001b[0m\u001b[0m\n\u001b[0;32m--> 473\u001b[0;31m             \u001b[0mtrace\u001b[0m \u001b[0;34m=\u001b[0m \u001b[0m_mp_sample\u001b[0m\u001b[0;34m(\u001b[0m\u001b[0;34m**\u001b[0m\u001b[0msample_args\u001b[0m\u001b[0;34m,\u001b[0m \u001b[0mdiscard_tuned_samples\u001b[0m\u001b[0;34m=\u001b[0m\u001b[0mdiscard_tuned_samples\u001b[0m\u001b[0;34m)\u001b[0m\u001b[0;34m\u001b[0m\u001b[0;34m\u001b[0m\u001b[0m\n\u001b[0m\u001b[1;32m    474\u001b[0m         \u001b[0;32mexcept\u001b[0m \u001b[0mpickle\u001b[0m\u001b[0;34m.\u001b[0m\u001b[0mPickleError\u001b[0m\u001b[0;34m:\u001b[0m\u001b[0;34m\u001b[0m\u001b[0;34m\u001b[0m\u001b[0m\n\u001b[1;32m    475\u001b[0m             \u001b[0m_log\u001b[0m\u001b[0;34m.\u001b[0m\u001b[0mwarning\u001b[0m\u001b[0;34m(\u001b[0m\u001b[0;34m\"Could not pickle model, sampling singlethreaded.\"\u001b[0m\u001b[0;34m)\u001b[0m\u001b[0;34m\u001b[0m\u001b[0;34m\u001b[0m\u001b[0m\n",
      "\u001b[0;32m~/git/pymc3/pymc3/sampling.py\u001b[0m in \u001b[0;36m_mp_sample\u001b[0;34m(draws, tune, step, chains, cores, chain, random_seed, start, progressbar, trace, model, discard_tuned_samples, **kwargs)\u001b[0m\n\u001b[1;32m   1306\u001b[0m         \u001b[0;32mtry\u001b[0m\u001b[0;34m:\u001b[0m\u001b[0;34m\u001b[0m\u001b[0;34m\u001b[0m\u001b[0m\n\u001b[1;32m   1307\u001b[0m             \u001b[0;32mwith\u001b[0m \u001b[0msampler\u001b[0m\u001b[0;34m:\u001b[0m\u001b[0;34m\u001b[0m\u001b[0;34m\u001b[0m\u001b[0m\n\u001b[0;32m-> 1308\u001b[0;31m                 \u001b[0;32mfor\u001b[0m \u001b[0mdraw\u001b[0m \u001b[0;32min\u001b[0m \u001b[0msampler\u001b[0m\u001b[0;34m:\u001b[0m\u001b[0;34m\u001b[0m\u001b[0;34m\u001b[0m\u001b[0m\n\u001b[0m\u001b[1;32m   1309\u001b[0m                     \u001b[0mtrace\u001b[0m \u001b[0;34m=\u001b[0m \u001b[0mtraces\u001b[0m\u001b[0;34m[\u001b[0m\u001b[0mdraw\u001b[0m\u001b[0;34m.\u001b[0m\u001b[0mchain\u001b[0m \u001b[0;34m-\u001b[0m \u001b[0mchain\u001b[0m\u001b[0;34m]\u001b[0m\u001b[0;34m\u001b[0m\u001b[0;34m\u001b[0m\u001b[0m\n\u001b[1;32m   1310\u001b[0m                     \u001b[0;32mif\u001b[0m \u001b[0mtrace\u001b[0m\u001b[0;34m.\u001b[0m\u001b[0msupports_sampler_stats\u001b[0m \u001b[0;32mand\u001b[0m \u001b[0mdraw\u001b[0m\u001b[0;34m.\u001b[0m\u001b[0mstats\u001b[0m \u001b[0;32mis\u001b[0m \u001b[0;32mnot\u001b[0m \u001b[0;32mNone\u001b[0m\u001b[0;34m:\u001b[0m\u001b[0;34m\u001b[0m\u001b[0;34m\u001b[0m\u001b[0m\n",
      "\u001b[0;32m~/git/pymc3/pymc3/parallel_sampling.py\u001b[0m in \u001b[0;36m__iter__\u001b[0;34m(self)\u001b[0m\n\u001b[1;32m    402\u001b[0m \u001b[0;34m\u001b[0m\u001b[0m\n\u001b[1;32m    403\u001b[0m         \u001b[0;32mwhile\u001b[0m \u001b[0mself\u001b[0m\u001b[0;34m.\u001b[0m\u001b[0m_active\u001b[0m\u001b[0;34m:\u001b[0m\u001b[0;34m\u001b[0m\u001b[0;34m\u001b[0m\u001b[0m\n\u001b[0;32m--> 404\u001b[0;31m             \u001b[0mdraw\u001b[0m \u001b[0;34m=\u001b[0m \u001b[0mProcessAdapter\u001b[0m\u001b[0;34m.\u001b[0m\u001b[0mrecv_draw\u001b[0m\u001b[0;34m(\u001b[0m\u001b[0mself\u001b[0m\u001b[0;34m.\u001b[0m\u001b[0m_active\u001b[0m\u001b[0;34m)\u001b[0m\u001b[0;34m\u001b[0m\u001b[0;34m\u001b[0m\u001b[0m\n\u001b[0m\u001b[1;32m    405\u001b[0m             \u001b[0mproc\u001b[0m\u001b[0;34m,\u001b[0m \u001b[0mis_last\u001b[0m\u001b[0;34m,\u001b[0m \u001b[0mdraw\u001b[0m\u001b[0;34m,\u001b[0m \u001b[0mtuning\u001b[0m\u001b[0;34m,\u001b[0m \u001b[0mstats\u001b[0m\u001b[0;34m,\u001b[0m \u001b[0mwarns\u001b[0m \u001b[0;34m=\u001b[0m \u001b[0mdraw\u001b[0m\u001b[0;34m\u001b[0m\u001b[0;34m\u001b[0m\u001b[0m\n\u001b[1;32m    406\u001b[0m             \u001b[0mself\u001b[0m\u001b[0;34m.\u001b[0m\u001b[0m_total_draws\u001b[0m \u001b[0;34m+=\u001b[0m \u001b[0;36m1\u001b[0m\u001b[0;34m\u001b[0m\u001b[0;34m\u001b[0m\u001b[0m\n",
      "\u001b[0;32m~/git/pymc3/pymc3/parallel_sampling.py\u001b[0m in \u001b[0;36mrecv_draw\u001b[0;34m(processes, timeout)\u001b[0m\n\u001b[1;32m    304\u001b[0m             \u001b[0;32melse\u001b[0m\u001b[0;34m:\u001b[0m\u001b[0;34m\u001b[0m\u001b[0;34m\u001b[0m\u001b[0m\n\u001b[1;32m    305\u001b[0m                 \u001b[0merror\u001b[0m \u001b[0;34m=\u001b[0m \u001b[0mRuntimeError\u001b[0m\u001b[0;34m(\u001b[0m\u001b[0;34m\"Chain %s failed.\"\u001b[0m \u001b[0;34m%\u001b[0m \u001b[0mproc\u001b[0m\u001b[0;34m.\u001b[0m\u001b[0mchain\u001b[0m\u001b[0;34m)\u001b[0m\u001b[0;34m\u001b[0m\u001b[0;34m\u001b[0m\u001b[0m\n\u001b[0;32m--> 306\u001b[0;31m             \u001b[0;32mraise\u001b[0m \u001b[0merror\u001b[0m \u001b[0;32mfrom\u001b[0m \u001b[0mold_error\u001b[0m\u001b[0;34m\u001b[0m\u001b[0;34m\u001b[0m\u001b[0m\n\u001b[0m\u001b[1;32m    307\u001b[0m         \u001b[0;32melif\u001b[0m \u001b[0mmsg\u001b[0m\u001b[0;34m[\u001b[0m\u001b[0;36m0\u001b[0m\u001b[0;34m]\u001b[0m \u001b[0;34m==\u001b[0m \u001b[0;34m\"writing_done\"\u001b[0m\u001b[0;34m:\u001b[0m\u001b[0;34m\u001b[0m\u001b[0;34m\u001b[0m\u001b[0m\n\u001b[1;32m    308\u001b[0m             \u001b[0mproc\u001b[0m\u001b[0;34m.\u001b[0m\u001b[0m_readable\u001b[0m \u001b[0;34m=\u001b[0m \u001b[0;32mTrue\u001b[0m\u001b[0;34m\u001b[0m\u001b[0;34m\u001b[0m\u001b[0m\n",
      "\u001b[0;31mRuntimeError\u001b[0m: Chain 3 failed."
     ]
    },
    {
     "name": "stderr",
     "output_type": "stream",
     "text": [
      "/home/adr/anaconda3/envs/pymc/lib/python3.7/site-packages/numpy/core/fromnumeric.py:3335: RuntimeWarning: Mean of empty slice.\n",
      "  out=out, **kwargs)\n"
     ]
    }
   ],
   "source": [
    "with model:\n",
    "    trace = pm.sample()"
   ]
  },
  {
   "cell_type": "code",
   "execution_count": null,
   "metadata": {},
   "outputs": [],
   "source": []
  }
 ],
 "metadata": {
  "kernelspec": {
   "display_name": "pymc",
   "language": "python",
   "name": "pymc"
  },
  "language_info": {
   "codemirror_mode": {
    "name": "ipython",
    "version": 3
   },
   "file_extension": ".py",
   "mimetype": "text/x-python",
   "name": "python",
   "nbconvert_exporter": "python",
   "pygments_lexer": "ipython3",
   "version": "3.7.6"
  }
 },
 "nbformat": 4,
 "nbformat_minor": 4
}
